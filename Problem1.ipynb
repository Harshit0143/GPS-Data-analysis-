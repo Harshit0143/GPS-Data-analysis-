{
 "cells": [
  {
   "cell_type": "code",
   "execution_count": null,
   "metadata": {},
   "outputs": [],
   "source": [
    "import pandas as pd\n",
    "import numpy as np\n",
    "import time \n",
    "import sys\n",
    "import osmnx as omx\n",
    "import matplotlib.pyplot as plt\n",
    "import folium"
   ]
  },
  {
   "cell_type": "code",
   "execution_count": null,
   "metadata": {},
   "outputs": [],
   "source": [
    "data = pd.read_csv('bike_data_new.csv',parse_dates=['started_at','ended_at'])#, nrows=350)"
   ]
  },
  {
   "attachments": {},
   "cell_type": "markdown",
   "metadata": {},
   "source": [
    "# Part 1\n",
    "#### Finding the statistics"
   ]
  },
  {
   "cell_type": "code",
   "execution_count": null,
   "metadata": {},
   "outputs": [],
   "source": [
    "global durations # stores time durations of trips as a list\n",
    "\n",
    "\n",
    "\n",
    "def clean_data():\n",
    "    # remove trips of zero duration \n",
    "    global durations\n",
    "    durations = data.apply(lambda row: (row['ended_at'] - row['started_at']).seconds//60, axis=1)\n",
    "\n",
    "    print('\\nInitially:', len(data), 'rows')\n",
    "\n",
    "    # det rows corresponding to zero duration \n",
    "    durn_0_rows = durations[durations==0].index\n",
    "\n",
    "    # drop these rows \n",
    "    data.drop(durn_0_rows,axis = 0,inplace=True)\n",
    "    data.reset_index(drop = True , inplace= True)\n",
    "    \n",
    "    durations.drop(durn_0_rows,axis = 0,inplace=True)\n",
    "    durations.reset_index(drop= True , inplace= True)\n",
    "\n",
    "\n",
    "    print('After deleting `duration 0` rows:', len(data),'rows')\n",
    "\n",
    "\n",
    "def statistics():\n",
    "    global durations\n",
    "    \n",
    "    print('Maximum duration: ',durations.max(), 'minutes')\n",
    "\n",
    "    min_durn = durations.min()\n",
    "    print('Minimum duration: ',min_durn , 'minutes')\n",
    "\n",
    "    freq_min = np.where(durations==min_durn)[0]\n",
    "    print('Count of rides of minimum duration: ',len(freq_min))\n",
    "\n",
    "    circular_trips = np.where((data['start_lat']==data['end_lat']) & (data['start_lng']==data['end_lng']))[0]\n",
    "    print('Number of circular trips: ', len(circular_trips))\n",
    "\n",
    "    print('Percentage of round trips: ', 100*len(circular_trips)/len(data),'%')"
   ]
  },
  {
   "attachments": {},
   "cell_type": "markdown",
   "metadata": {},
   "source": [
    "### Calling `cleaning` and `statistics` functions "
   ]
  },
  {
   "cell_type": "code",
   "execution_count": null,
   "metadata": {},
   "outputs": [],
   "source": [
    "st_t = time.time()\n",
    "clean_data()\n",
    "statistics()\n",
    "en_t = time.time()\n",
    "print('\\nRuntime of functions `clean_data()` and  `Statistics()`: ', en_t-st_t , 'seconds')"
   ]
  },
  {
   "attachments": {},
   "cell_type": "markdown",
   "metadata": {},
   "source": [
    "### Probability Distributions for the ride Durations "
   ]
  },
  {
   "cell_type": "code",
   "execution_count": null,
   "metadata": {},
   "outputs": [],
   "source": [
    "# Finding average ride duratoin: Trivial \n",
    "avg_durn = durations.sum()/len(durations)\n",
    "print('Average ride duration:', avg_durn, 'minutes')\n",
    "\n",
    "\n",
    "# Make buckets of ride durations. I habe taken 2000 buckets \n",
    "counts, bin_edges = np.histogram(durations, bins=2000,density=True)\n",
    "pdf = counts # Numpy function to get the pdf \n",
    "\n",
    "\n",
    "# Computing `bucket` corresponding to max probaility and corresponding `probability`\n",
    "max_bin = np.argmax(counts)\n",
    "b_left= bin_edges[max_bin]\n",
    "b_right = bin_edges[max_bin+1]\n",
    "print('maximum probable duration:', b_left,'-',b_right,'minutes with probability:', counts[max_bin] )\n",
    "\n",
    "# Plotting the `pdf`\n",
    "fig_, ax_ = plt.subplots()\n",
    "ax_.plot(bin_edges[1:], pdf, drawstyle='steps')\n",
    "ax_.set_xlabel('Ride Duration(minutes)')\n",
    "ax_.set_ylabel('Probability')\n",
    "plt.show()\n",
    "\n",
    "\n",
    "# plot a `CDF`\n",
    "fig, ax = plt.subplots()\n",
    "cdf = np.cumsum(pdf)\n",
    "ax.plot(bin_edges[1:], cdf, drawstyle='steps')\n",
    "ax.set_xlabel('Ride Duration(minutes)')\n",
    "ax.set_ylabel('Cumulative Probability')\n",
    "plt.show()\n",
    "\n",
    "\n",
    "\n"
   ]
  },
  {
   "attachments": {},
   "cell_type": "markdown",
   "metadata": {},
   "source": [
    "# Part 2\n",
    "### Filtering Data from 06:00 AM to 06:00 PM"
   ]
  },
  {
   "cell_type": "code",
   "execution_count": null,
   "metadata": {},
   "outputs": [],
   "source": [
    "st_t = time.time()\n",
    "filter_low = pd.Timestamp('01-02-2023 06:00')\n",
    "filter_high = pd.Timestamp('01-02-2023 18:00')\n",
    "restr  = data.loc[(data['started_at'] >= filter_low)  & (data['ended_at'] <= filter_high)]\n",
    "restr.reset_index(drop= True,inplace=True)\n",
    "en_t = time.time()\n",
    "print('Time for filtering from 06:00 AM to 06:00 PM', en_t-st_t, 'seconds')\n",
    "print('Rides restricted from 06:00 AM to 06:00 PM:', len(restr), 'rides\\n')\n",
    "\n",
    "\n"
   ]
  },
  {
   "attachments": {},
   "cell_type": "markdown",
   "metadata": {},
   "source": [
    "\n",
    "`Naive Algorithm` for counting `feasible pairs`  "
   ]
  },
  {
   "cell_type": "code",
   "execution_count": null,
   "metadata": {},
   "outputs": [],
   "source": [
    "\n",
    "def naive_pair_cnt():\n",
    "    global restr\n",
    "    cnt = 0\n",
    "    n = len(restr)\n",
    "    for i in range (n):\n",
    "        for j in range (n):\n",
    "            if  (restr.loc[i]['end_lat'],restr.loc[i]['end_lng'])!= (restr.loc[j]['start_lat'],restr.loc[j]['start_lng']):\n",
    "                continue\n",
    "            elif restr.loc[i]['ended_at'] <= restr.loc[j]['started_at']:\n",
    "                cnt+=1\n",
    "\n",
    "    return cnt     \n"
   ]
  },
  {
   "attachments": {},
   "cell_type": "markdown",
   "metadata": {},
   "source": [
    "`Efficinet Algorithm` for counitng `Feasible Pairs` (Explained in the report)"
   ]
  },
  {
   "cell_type": "code",
   "execution_count": null,
   "metadata": {},
   "outputs": [],
   "source": [
    "dict_st = {}\n",
    "dict_en = {} \n",
    "\n",
    "# 2-pointwr methid to get feasible pairs \n",
    "def pair_cnt(L_end,L_st):\n",
    "    global restr\n",
    "    j  = 0\n",
    "    cnt = 0\n",
    "    n = len(L_end)\n",
    "    m = len(L_st)\n",
    "    for i in range (n):\n",
    "        while (j < m) and (restr.loc[L_st[j]]['started_at'] < restr.loc[L_end[i]]['ended_at']):\n",
    "            j+=1\n",
    "        cnt+= m - j\n",
    "    return cnt\n",
    "\n",
    "# To popolate dict_st and dict_en\n",
    "def add_to_dict(row):\n",
    "    global dict_st, dict_en\n",
    "    dict_st.setdefault((row['start_lat'], row['start_lng']), []).append(row.name)\n",
    "    dict_en.setdefault((row['end_lat'  ], row['end_lng'  ]), []).append(row.name)\n",
    "\n",
    "\n",
    "def feasible_pair_cnt():\n",
    "    global restr\n",
    "\n",
    "    # To popolate dict_st and dict_en\n",
    "    if (len(restr)==0):\n",
    "        return 0\n",
    "    restr.loc[:,['start_lat','start_lng','end_lat','end_lng']].apply(add_to_dict, axis=1)\n",
    "    \n",
    "    # Input data is already sorted by start time so this is not needed\n",
    "    for key in dict_st:\n",
    "        dict_st[key].sort(key = lambda x: data.loc[x]['started_at'])\n",
    "\n",
    "    # Sort vecctors correspondint to each key in dict_en by end_time \n",
    "    for key in dict_en:\n",
    "        dict_en[key].sort(key = lambda x: restr.loc[x]['ended_at'])\n",
    "\n",
    "    # The 2-pointer method to get feasible pairs \n",
    "    cnt = 0\n",
    "    for key in dict_en:\n",
    "        if key in dict_st:\n",
    "            cnt+= pair_cnt(dict_en[key],dict_st[key])\n",
    "    return cnt"
   ]
  },
  {
   "attachments": {},
   "cell_type": "markdown",
   "metadata": {},
   "source": [
    "### Calling the functions for feasible pair count "
   ]
  },
  {
   "cell_type": "code",
   "execution_count": null,
   "metadata": {},
   "outputs": [],
   "source": [
    "\n",
    "\n",
    "st_t = time.time()\n",
    "ans = feasible_pair_cnt()\n",
    "en_t = time.time()\n",
    "print('Number of feasible pairs of rides:', ans)\n",
    "print('Runtime of `efficient pair count`:', en_t-st_t, 'seconds\\n')\n",
    "\n",
    "# UNCOMMENT THe FOLLOWING TO RUN THE NAIVE METHOD. It takes 3 hrs to run it on the entire input\n",
    "# UNCOMENT THE: # nrows = 350 in the second block of reading CSV. To see both in action, producing the smae answer\n",
    "# The naive_pair_cnt() will run in 10 seconds on that example \n",
    "# st_t = time.time()\n",
    "# ans = naive_pair_cnt()\n",
    "# en_t = time.time()\n",
    "# print('Number of feasible pairs of rides:', ans)\n",
    "# print('Runtime of `naive pair count`:', en_t-st_t, 'seconds\\n')\n",
    "\n",
    "\n",
    "print('The naive method takes More than 3 hrs (on `complete input`) to terminate and outputs: ')\n",
    "print('Number of feasible pairs of rides: 43394')\n",
    "print('Runtime of `naive pair count`: 11835.93357205391 seconds')\n",
    "\n",
    "\n",
    "\n"
   ]
  },
  {
   "attachments": {},
   "cell_type": "markdown",
   "metadata": {},
   "source": [
    "# Part 3\n",
    "#### Dictionalry `depots` to get unique `depots`"
   ]
  },
  {
   "cell_type": "code",
   "execution_count": null,
   "metadata": {},
   "outputs": [],
   "source": [
    "depots = set()\n",
    "\n",
    "def add_to_set(row):\n",
    "    depots.add((row['start_lat'], row['start_lng']))\n",
    "    depots.add((row['end_lat'  ], row['end_lng'  ]))\n",
    "    \n",
    "    \n",
    "def populate_depots(cnt):\n",
    "    data.iloc[0:cnt, 3:7].apply(add_to_set, axis=1)\n"
   ]
  },
  {
   "attachments": {},
   "cell_type": "markdown",
   "metadata": {},
   "source": [
    "#### We are taking top 100 entries "
   ]
  },
  {
   "cell_type": "code",
   "execution_count": null,
   "metadata": {},
   "outputs": [],
   "source": [
    "first_x = 100\n",
    "populate_depots(first_x)\n",
    "n = len(depots)"
   ]
  },
  {
   "attachments": {},
   "cell_type": "markdown",
   "metadata": {},
   "source": [
    "#### The list of points present in dictionary `depots` is `points`\n",
    "* Plot these on a map using follium. Shown in report \n",
    "* Alse greate the circle C within which graph has to be downloaded "
   ]
  },
  {
   "cell_type": "code",
   "execution_count": null,
   "metadata": {},
   "outputs": [],
   "source": [
    "# define your set of points\n",
    "points = [(38.91475111, -77.00356007), (38.894987, -77.09171033), (38.988562, -77.096539), (39.119765, -77.166093), (38.917716, -77.022684), (38.9268, -77.0322), (38.91693645, -77.02963114), (38.89728305, -77.02219069), (38.897218, -77.072143), (38.928743, -77.012457), (38.922967, -77.0425075), (38.89696, -77.00493), (38.952369, -77.002721), (39.11033883, -77.1827265), (38.999378, -77.097882), (38.9319, -77.0388), (38.918036, -77.045487), (38.905509, -77.065246), (38.93248233, -76.99335833), (38.935839, -77.106913), (38.915544, -77.038252), (38.88470272, -77.10030198), (38.891696, -77.0846), (38.908905, -77.04478), (38.89903234, -77.03335404), (38.8997, -77.023086), (38.892441, -77.048947), (38.961737, -76.995922), (38.9086, -77.0323), (38.84237283, -77.08959367), (38.895377, -77.09713), (38.912714, -77.02257383), (38.910972, -77.00495), (38.91613685, -77.02200294), (38.91, -77.01), (38.92284916, -77.04252452), (38.8963, -77.045), (38.925636, -77.027112), (38.9177645, -77.032096), (38.88081, -77.090792), (38.94807633, -77.02137283), (38.902674, -77.021392), (38.92, -77.07), (38.90093, -77.018677), (38.901755, -77.051084), (38.876695, -77.112982), (38.933633, -77.05761317), (38.91, -77.03), (38.903819, -77.011987), (38.91291246, -77.00891107), (38.90864, -77.02277), (38.8851, -77.0023), (38.90571079, -77.04731762), (38.898301, -77.039643), (38.90970086, -77.08564639), (38.89484064, -76.99591577), (38.9076926, -77.07151249), (38.89222, -76.99602), (38.907908, -76.99707), (38.899703, -77.008911), (38.90304, -77.019027), (38.9418, -77.0251), (38.9190185, -77.034449), (38.92929317, -77.02778233), (39.0, -77.02), (39.0, -77.03), (38.968842, -76.954171), (38.90728677, -76.99916661), (38.96, -77.07), (38.92, -77.01), (38.903732, -76.987211), (38.881185, -77.001828), (38.8840581, -76.9863852), (38.905303, -77.050264), (38.908643, -77.012365), (38.920387, -77.025672), (38.93, -77.03), (38.93, -77.04), (38.90546971, -77.00213045), (38.89785817, -76.97963933), (38.928893, -77.03625), (38.89830174, -77.04691261), (38.89340967, -77.07634833), (38.92854683, -77.0322585), (38.921986, -76.960696), (38.905697, -77.005483), (38.9024, -77.02622), (38.88992, -77.071301), (38.883318, -76.925315), (38.88701008, -77.09525675), (38.92879467, -77.012295), (38.89000783, -76.9372365), (38.9055785, -77.027313), (38.89994163, -76.99489653), (38.897274, -76.994749), (38.92340167, -77.03504867), (38.88, -77.11), (38.924088, -77.040787), (38.907444, -76.986813), (38.813474, -77.053734), (38.90276, -77.03863), (38.913761, -77.027025), (38.876751, -77.000736), (38.93201683, -77.0329375), (38.926102, -77.03665), (38.921074, -77.031887), (38.852248, -77.105022), (38.9, -77.01), (38.90731645, -77.00069815), (38.947997, -77.02145817), (38.9308, -77.0315), (38.903819, -77.0284), (38.95169117, -77.0127525), (38.91683167, -77.02965267), (38.93132186, -77.02824712), (38.873755, -77.089233), (38.92, -77.02), (38.93, -76.99), (38.92, -77.04), (38.894722, -77.045128), (38.89608691, -77.07145214), (38.906299, -76.983221), (38.8763, -77.0037), (38.9121, -77.0387), (38.88637194, -77.01770067), (38.9126, -77.0135), (38.90980063, -77.03442693), (38.917622, -77.01597), (38.905737, -77.02227), (38.93668393, -77.02418089), (38.817019, -77.050105), (38.87501, -77.0024), (38.85930562, -77.10201859), (38.92, -77.05), (38.863833, -77.080319), (38.90088, -77.048911), (38.889935, -76.93723), (38.93674433, -77.0241405), (38.92884333, -77.0362215), (38.9, -77.05), (38.91, -77.0), (38.9256025, -77.02715917), (38.91902417, -77.03447967), (38.944013, -77.353552), (38.88028067, -76.98627183), (38.903649, -77.034918), (38.909858, -77.038566)]\n",
    "print(len(points))\n",
    "center = (38.98,-77.12)\n",
    "radius = 22000\n",
    "\n",
    "m = folium.Map(location=center, zoom_start=10)\n",
    "for lat, lon in points:\n",
    "    folium.Marker(location=[lat, lon], icon=None).add_to(m)\n",
    "folium.Circle(location=center, radius=radius, fill=False, color='red').add_to(m)\n",
    "\n",
    "m.save('map.html')\n",
    "m"
   ]
  },
  {
   "attachments": {},
   "cell_type": "markdown",
   "metadata": {},
   "source": [
    "* Download graph `G` within the specified circle"
   ]
  },
  {
   "cell_type": "code",
   "execution_count": null,
   "metadata": {},
   "outputs": [],
   "source": [
    "sys.exit()\n",
    "center = (38.98,-77.12) \n",
    "# Started awith the `average` of location of all nodes \n",
    "# Hit and trial to obtain the minimum radious circle enclosing all points \n",
    "radius = 22000\n",
    "print('Downloading city graph!')\n",
    "# G = omx.load_graphml('my_graph.graphml')\n",
    "G = omx.graph_from_point(center, radius, network_type='all')\n",
    "omx.save_graphml(G, 'my_graph.graphml')\n",
    "\n",
    "print('Saved Graph')\n",
    "print(G)\n",
    "\n",
    "\n",
    "\n",
    "# Get the nodes in `G` nearest to out depots \n",
    "nearest_nodes =  []\n",
    "for i in depots:\n",
    "    nearest_nodes.append(omx.distance.nearest_nodes(G, i[0],i[1]))\n",
    "print(nearest_nodes)\n",
    "\n"
   ]
  },
  {
   "attachments": {},
   "cell_type": "markdown",
   "metadata": {},
   "source": [
    "#### Get the $induced$ $subgraph$ of $G$ on the subvertices $depots$ "
   ]
  },
  {
   "cell_type": "code",
   "execution_count": null,
   "metadata": {},
   "outputs": [],
   "source": [
    "induced_subgraph = omx.load_graphml('sub_grp.graphml')\n",
    "induced_subgraph = G.subgraph(nearest_nodes)\n",
    "omx.save_graphml(induced_subgraph, 'sub_grp.graphml')\n",
    "print(induced_subgraph)\n",
    "omx.plot_graph(induced_subgraph)"
   ]
  }
 ],
 "metadata": {
  "kernelspec": {
   "display_name": "ox",
   "language": "python",
   "name": "python3"
  },
  "language_info": {
   "codemirror_mode": {
    "name": "ipython",
    "version": 3
   },
   "file_extension": ".py",
   "mimetype": "text/x-python",
   "name": "python",
   "nbconvert_exporter": "python",
   "pygments_lexer": "ipython3",
   "version": "3.11.3"
  },
  "orig_nbformat": 4
 },
 "nbformat": 4,
 "nbformat_minor": 2
}
